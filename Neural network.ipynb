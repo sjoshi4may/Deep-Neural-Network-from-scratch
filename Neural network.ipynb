{
 "cells": [
  {
   "cell_type": "code",
   "execution_count": 1,
   "metadata": {
    "collapsed": true
   },
   "outputs": [],
   "source": [
    "\"\"\"Implementing Neural networks for classification from scratch.\n",
    "Steps involved are - \n",
    "1. Define the architecture - number of layers, number of units in each layer.\n",
    "2. Define the cost function.\n",
    "3. Initialise the weights.\n",
    "4. Feed forward pass.\n",
    "5. Backpropagation fo error.\n",
    "6. Update by batch Gradient descent as well as stochastic gradient descent.\n",
    "7. Test on some dataset.\n",
    "8. Try to look at the activations to find out what the network is actually learning.\n",
    "\"\"\";"
   ]
  },
  {
   "cell_type": "code",
   "execution_count": 2,
   "metadata": {
    "collapsed": true
   },
   "outputs": [],
   "source": [
    "import pandas as pd\n",
    "import numpy as np\n",
    "import matplotlib.pyplot as plt\n",
    "%matplotlib inline"
   ]
  },
  {
   "cell_type": "code",
   "execution_count": 24,
   "metadata": {
    "collapsed": true
   },
   "outputs": [],
   "source": [
    "def initialisation(nlayers,nunits):\n",
    "    \"\"\"Define the neural net architecture.\n",
    "    Arguments - number of layers including input layer, list of units\n",
    "    in each layer including the input layer in order.\"\"\"\n",
    "    \n",
    "    arch={}\n",
    "    for j in range(nlayers):\n",
    "        arch[str(j)] = nunits[j]\n",
    "        \n",
    "    weights = {}\n",
    "    for i in range(nlayers-1):\n",
    "        weights['W'+str(i+1)] = np.sqrt(1/arch[str(i)])*np.random.randn(arch[str(i+1)],arch[str(i)])\n",
    "        weights['b'+str(i+1)] = np.sqrt(1/arch[str(i)])*np.random.randn(arch[str(i+1)],1)\n",
    "\n",
    "    return weights\n",
    "\n"
   ]
  },
  {
   "cell_type": "code",
   "execution_count": 25,
   "metadata": {
    "collapsed": true
   },
   "outputs": [],
   "source": [
    "def sigmoid(z):\n",
    "    return 1/(1+np.exp(-z))\n",
    "def relu(z):\n",
    "    return z*(z>0)\n",
    "\n",
    "def softmax(z):\n",
    "    return np.exp(z)/np.sum(np.exp(z),axis=0)"
   ]
  },
  {
   "cell_type": "code",
   "execution_count": 26,
   "metadata": {
    "collapsed": true
   },
   "outputs": [],
   "source": [
    "def grad_sigm(z):\n",
    "    return sigmoid(z)*(1-sigmoid(z))\n",
    "def grad_relu(z):\n",
    "    k = relu(z)\n",
    "    k[k>0]=1\n",
    "    return k"
   ]
  },
  {
   "cell_type": "code",
   "execution_count": 27,
   "metadata": {
    "collapsed": true
   },
   "outputs": [],
   "source": [
    "def feed_forward(data,weights,nlayers,activation='relu'):\n",
    "    cache={}\n",
    "    cache['a0'] = data\n",
    "    for i in range(nlayers-1):\n",
    "        cache['z'+str(i+1)] = np.matmul(weights['W'+str(i+1)],cache['a'+str(i)]) + weights['b'+str(i+1)]\n",
    "        if i!=nlayers-2:\n",
    "            if activation=='sigmoid':\n",
    "                cache['a'+str(i+1)] = sigmoid(cache['z'+str(i+1)])\n",
    "            elif activation == 'relu':\n",
    "                cache['a'+str(i+1)] = relu(cache['z'+str(i+1)])\n",
    "        else:\n",
    "            # last layer activation is chosen to be sigmoid\n",
    "            cache['a'+str(i+1)] = softmax(cache['z'+str(i+1)])\n",
    "#             cache['a'+str(i+1)] = np.exp(cache['z'+str(i+1)])/np.sum(np.exp(cache['z'+str(i+1)]),axis=1)\n",
    "    \n",
    "    return cache"
   ]
  },
  {
   "cell_type": "code",
   "execution_count": 28,
   "metadata": {
    "collapsed": true
   },
   "outputs": [],
   "source": [
    "def cost(Y,out):\n",
    "#     J = np.sum(-Y*np.log(out) - (1-Y)*np.log(1-out))\n",
    "#     J = 0.5*(1/Y.shape[1])*np.sum((Y-out)**2) # mean square error\n",
    "    J = np.sum(-Y*np.log(out))\n",
    "    return J"
   ]
  },
  {
   "cell_type": "code",
   "execution_count": 29,
   "metadata": {
    "collapsed": true
   },
   "outputs": [],
   "source": [
    "def backprop(data,Y,cache,weights,nlayers,activation='relu'):\n",
    "    grads={}\n",
    "#     grads['da'+str(nlayers-1)] = (-Y/cache['a'+str(nlayers-1)]) + ((1-Y)/(1-cache['a'+str(nlayers-1)])) # logistic regression error\n",
    "#     grads['da'+str(nlayers-1)] = cache['a'+str(nlayers-1)] - Y # Mean squared error\n",
    "    for i in reversed(range(nlayers-1)):\n",
    "        if i == nlayers-2:\n",
    "#             grads['dz'+str(i+1)] = grads['da'+str(i+1)]*grad_sigm(cache['z'+str(i+1)]) # logistic or mse error\n",
    "            grads['dz'+str(i+1)]=cache['a'+str(nlayers-1)] - Y # softmax error\n",
    "        else:\n",
    "            if activation=='sigmoid':\n",
    "                grads['dz'+str(i+1)] = grads['da'+str(i+1)]*grad_sigm(cache['z'+str(i+1)])\n",
    "            elif activation=='relu':\n",
    "                grads['dz'+str(i+1)] = grads['da'+str(i+1)]*grad_relu(cache['z'+str(i+1)])\n",
    "        grads['dW'+str(i+1)] = np.matmul(grads['dz'+str(i+1)],cache['a'+str(i)].T)                     \n",
    "        grads['db'+str(i+1)] = np.sum(grads['dz'+str(i+1)],axis=1).reshape(grads['dz'+str(i+1)].shape[0],1)\n",
    "\n",
    "        grads['da'+str(i)] = np.matmul(weights['W'+str(i+1)].T,grads['dz'+str(i+1)])\n",
    " \n",
    "    return grads"
   ]
  },
  {
   "cell_type": "code",
   "execution_count": 30,
   "metadata": {
    "collapsed": true
   },
   "outputs": [],
   "source": [
    "def update(weights,grads,nlayers,alpha):\n",
    "    for i in range(nlayers-1):\n",
    "        weights['W'+str(i+1)] = weights['W'+str(i+1)] - alpha*grads['dW'+str(i+1)]\n",
    "    return weights"
   ]
  },
  {
   "cell_type": "code",
   "execution_count": 31,
   "metadata": {
    "collapsed": true
   },
   "outputs": [],
   "source": [
    "def nn(X,Y_enc,activation,nunits,nlayers,num_iter,alpha):\n",
    "    iter_cost=[]\n",
    "    weights = initialisation(nlayers,nunits)\n",
    "    for i in range(num_iter):\n",
    "        cache = feed_forward(X,weights,nlayers,activation)\n",
    "        iter_cost.append(cost(Y_enc,cache['a'+str(nlayers-1)]))\n",
    "        grads = backprop(X,Y_enc,cache,weights,nlayers,activation)\n",
    "        weights = update(weights,grads,nlayers,alpha)\n",
    "    return iter_cost,weights"
   ]
  },
  {
   "cell_type": "code",
   "execution_count": 32,
   "metadata": {
    "collapsed": true
   },
   "outputs": [],
   "source": [
    "def fit_and_predict(xtrain,ytrain,xtest,ytest,nlayers,nunits,activation,num_iter=1000,alpha=0.001):\n",
    "    iter_cost,weights = nn(xtrain,ytrain,activation,nunits,nlayers,num_iter,alpha)\n",
    "    plt.plot(iter_cost)\n",
    "    test_error   = 100*np.sum(abs(np.argmax(feed_forward(xtest,weights,nlayers,activation)['a'+str(nlayers-1)],axis=0) - np.argmax(ytest,axis=0)))/ytest.shape[1]\n",
    "    train_error = 100*np.sum(abs(np.argmax(feed_forward(xtrain,weights,nlayers,activation)['a'+str(nlayers-1)],axis=0) - np.argmax(ytrain,axis=0)))/ytrain.shape[1]\n",
    "    print('train accuracy = ', 100-train_error,' %')\n",
    "    print('test accuracy = ', 100- test_error,' %')\n",
    "    return "
   ]
  },
  {
   "cell_type": "markdown",
   "metadata": {},
   "source": [
    "# 1. IRIS dataset"
   ]
  },
  {
   "cell_type": "code",
   "execution_count": 33,
   "metadata": {
    "collapsed": true
   },
   "outputs": [],
   "source": [
    "data = pd.read_csv('https://archive.ics.uci.edu/ml/machine-learning-databases/iris/iris.data',header=None)"
   ]
  },
  {
   "cell_type": "code",
   "execution_count": 34,
   "metadata": {
    "collapsed": true
   },
   "outputs": [],
   "source": [
    "data.rename(columns = {0:'A',1:'B',2:'C',3:'D',4:'labels'},inplace=True)"
   ]
  },
  {
   "cell_type": "code",
   "execution_count": 35,
   "metadata": {
    "collapsed": true
   },
   "outputs": [],
   "source": [
    "Y = data['labels']\n",
    "X = data[['A','B','C','D']]"
   ]
  },
  {
   "cell_type": "code",
   "execution_count": 36,
   "metadata": {
    "collapsed": true
   },
   "outputs": [],
   "source": [
    "from sklearn.model_selection import train_test_split\n",
    "X,X_test,Y,Y_test = train_test_split(X,Y,test_size=0.2)"
   ]
  },
  {
   "cell_type": "code",
   "execution_count": 37,
   "metadata": {
    "collapsed": true
   },
   "outputs": [],
   "source": [
    "from sklearn.preprocessing import OneHotEncoder,LabelEncoder\n",
    "le = LabelEncoder()\n",
    "Y_enc= le.fit_transform(Y)\n",
    "Y_test = le.transform(Y_test)\n",
    "ohe = OneHotEncoder()\n",
    "Y_enc = ohe.fit_transform(Y_enc.reshape(-1,1)).toarray()\n",
    "Y_test = ohe.transform(Y_test.reshape(-1,1)).toarray()"
   ]
  },
  {
   "cell_type": "code",
   "execution_count": 38,
   "metadata": {
    "collapsed": true
   },
   "outputs": [],
   "source": [
    "from sklearn.preprocessing import StandardScaler\n",
    "sc = StandardScaler()\n",
    "X = sc.fit_transform(X)\n",
    "X_test = sc.transform(X_test)"
   ]
  },
  {
   "cell_type": "code",
   "execution_count": 39,
   "metadata": {
    "collapsed": true
   },
   "outputs": [],
   "source": [
    "X = X.T\n",
    "X_test = X_test.T\n",
    "Y_enc = Y_enc.T\n",
    "Y_test=Y_test.T"
   ]
  },
  {
   "cell_type": "code",
   "execution_count": 75,
   "metadata": {},
   "outputs": [
    {
     "name": "stdout",
     "output_type": "stream",
     "text": [
      "train accuracy =  99.1666666667  %\n",
      "test accuracy =  96.6666666667  %\n"
     ]
    },
    {
     "data": {
      "image/png": "[encoded data removed]",
      "text/plain": [
       "<matplotlib.figure.Figure at 0x11675a5f8>"
      ]
     },
     "metadata": {},
     "output_type": "display_data"
    }
   ],
   "source": [
    "fit_and_predict(X,Y_enc,X_test,Y_test,nlayers=4,nunits=[4,30,30,3],activation='relu',num_iter=1000,alpha=0.001)"
   ]
  },
  {
   "cell_type": "markdown",
   "metadata": {},
   "source": [
    "# 2. Applying on Breast cancer dataset from scikit learn"
   ]
  },
  {
   "cell_type": "code",
   "execution_count": 76,
   "metadata": {
    "collapsed": true
   },
   "outputs": [],
   "source": [
    "from sklearn.datasets import load_breast_cancer"
   ]
  },
  {
   "cell_type": "code",
   "execution_count": 77,
   "metadata": {
    "collapsed": true
   },
   "outputs": [],
   "source": [
    "data = load_breast_cancer()\n",
    "y=data.target\n",
    "X=data.data"
   ]
  },
  {
   "cell_type": "code",
   "execution_count": 78,
   "metadata": {
    "collapsed": true
   },
   "outputs": [],
   "source": [
    "x,x_test,y,y_test = train_test_split(X,y,test_size=0.2)"
   ]
  },
  {
   "cell_type": "code",
   "execution_count": 79,
   "metadata": {
    "collapsed": true
   },
   "outputs": [],
   "source": [
    "sc = StandardScaler()\n",
    "x = sc.fit_transform(x)\n",
    "x_test = sc.transform(x_test)"
   ]
  },
  {
   "cell_type": "code",
   "execution_count": 80,
   "metadata": {
    "collapsed": true
   },
   "outputs": [],
   "source": [
    "ohe = OneHotEncoder()\n",
    "y = ohe.fit_transform(y.reshape(-1,1)).toarray()\n",
    "y_test = ohe.transform(y_test.reshape(-1,1)).toarray()\n",
    "x = x.T\n",
    "x_test = x_test.T\n",
    "y = y.T\n",
    "y_test=y_test.T"
   ]
  },
  {
   "cell_type": "code",
   "execution_count": 110,
   "metadata": {},
   "outputs": [
    {
     "name": "stdout",
     "output_type": "stream",
     "text": [
      "train accuracy =  99.7802197802  %\n",
      "test accuracy =  98.2456140351  %\n"
     ]
    },
    {
     "data": {
      "image/png": "[encoded data removed]",
      "text/plain": [
       "<matplotlib.figure.Figure at 0x116c7fef0>"
      ]
     },
     "metadata": {},
     "output_type": "display_data"
    }
   ],
   "source": [
    "fit_and_predict(x,y,x_test,y_test,nlayers=3,nunits=[30,15,2],activation='relu',num_iter=1000,alpha=0.001)"
   ]
  },
  {
   "cell_type": "code",
   "execution_count": null,
   "metadata": {
    "collapsed": true
   },
   "outputs": [],
   "source": []
  }
 ],
 "metadata": {
  "kernelspec": {
   "display_name": "Python 3",
   "language": "python",
   "name": "python3"
  },
  "language_info": {
   "codemirror_mode": {
    "name": "ipython",
    "version": 3
   },
   "file_extension": ".py",
   "mimetype": "text/x-python",
   "name": "python",
   "nbconvert_exporter": "python",
   "pygments_lexer": "ipython3",
   "version": "3.6.2"
  }
 },
 "nbformat": 4,
 "nbformat_minor": 2
}
